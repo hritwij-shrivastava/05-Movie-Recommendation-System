{
 "cells": [
  {
   "cell_type": "code",
   "execution_count": 46,
   "metadata": {},
   "outputs": [],
   "source": [
    "import numpy as np\n",
    "import pandas as pd\n",
    "import matplotlib as plt\n",
    "%matplotlib inline"
   ]
  },
  {
   "cell_type": "code",
   "execution_count": 47,
   "metadata": {},
   "outputs": [],
   "source": [
    "movie=pd.read_csv('movies_metadata_modified.csv')"
   ]
  },
  {
   "cell_type": "code",
   "execution_count": 48,
   "metadata": {},
   "outputs": [
    {
     "data": {
      "text/html": [
       "<div>\n",
       "<style scoped>\n",
       "    .dataframe tbody tr th:only-of-type {\n",
       "        vertical-align: middle;\n",
       "    }\n",
       "\n",
       "    .dataframe tbody tr th {\n",
       "        vertical-align: top;\n",
       "    }\n",
       "\n",
       "    .dataframe thead th {\n",
       "        text-align: right;\n",
       "    }\n",
       "</style>\n",
       "<table border=\"1\" class=\"dataframe\">\n",
       "  <thead>\n",
       "    <tr style=\"text-align: right;\">\n",
       "      <th></th>\n",
       "      <th>id</th>\n",
       "      <th>original_title</th>\n",
       "      <th>original_language</th>\n",
       "      <th>adult</th>\n",
       "    </tr>\n",
       "  </thead>\n",
       "  <tbody>\n",
       "    <tr>\n",
       "      <th>0</th>\n",
       "      <td>2</td>\n",
       "      <td>Ariel</td>\n",
       "      <td>fi</td>\n",
       "      <td>False</td>\n",
       "    </tr>\n",
       "    <tr>\n",
       "      <th>1</th>\n",
       "      <td>3</td>\n",
       "      <td>Varjoja paratiisissa</td>\n",
       "      <td>fi</td>\n",
       "      <td>False</td>\n",
       "    </tr>\n",
       "  </tbody>\n",
       "</table>\n",
       "</div>"
      ],
      "text/plain": [
       "   id        original_title original_language  adult\n",
       "0   2                 Ariel                fi  False\n",
       "1   3  Varjoja paratiisissa                fi  False"
      ]
     },
     "execution_count": 48,
     "metadata": {},
     "output_type": "execute_result"
    }
   ],
   "source": [
    "movie=movie[['id','original_title','original_language','adult']]\n",
    "movie.head(2)"
   ]
  },
  {
   "cell_type": "code",
   "execution_count": 50,
   "metadata": {
    "collapsed": true
   },
   "outputs": [
    {
     "data": {
      "text/html": [
       "<div>\n",
       "<style scoped>\n",
       "    .dataframe tbody tr th:only-of-type {\n",
       "        vertical-align: middle;\n",
       "    }\n",
       "\n",
       "    .dataframe tbody tr th {\n",
       "        vertical-align: top;\n",
       "    }\n",
       "\n",
       "    .dataframe thead th {\n",
       "        text-align: right;\n",
       "    }\n",
       "</style>\n",
       "<table border=\"1\" class=\"dataframe\">\n",
       "  <thead>\n",
       "    <tr style=\"text-align: right;\">\n",
       "      <th></th>\n",
       "      <th>id</th>\n",
       "      <th>original_title</th>\n",
       "      <th>original_language</th>\n",
       "      <th>adult</th>\n",
       "    </tr>\n",
       "  </thead>\n",
       "  <tbody>\n",
       "    <tr>\n",
       "      <th>3000</th>\n",
       "      <td>8867</td>\n",
       "      <td>The Punisher</td>\n",
       "      <td>en</td>\n",
       "      <td>False</td>\n",
       "    </tr>\n",
       "    <tr>\n",
       "      <th>3001</th>\n",
       "      <td>8868</td>\n",
       "      <td>Astérix et la surprise de César</td>\n",
       "      <td>fr</td>\n",
       "      <td>False</td>\n",
       "    </tr>\n",
       "    <tr>\n",
       "      <th>3002</th>\n",
       "      <td>8869</td>\n",
       "      <td>Eight Legged Freaks</td>\n",
       "      <td>en</td>\n",
       "      <td>False</td>\n",
       "    </tr>\n",
       "    <tr>\n",
       "      <th>3003</th>\n",
       "      <td>8870</td>\n",
       "      <td>Red Planet</td>\n",
       "      <td>en</td>\n",
       "      <td>False</td>\n",
       "    </tr>\n",
       "    <tr>\n",
       "      <th>3004</th>\n",
       "      <td>8871</td>\n",
       "      <td>How the Grinch Stole Christmas</td>\n",
       "      <td>en</td>\n",
       "      <td>False</td>\n",
       "    </tr>\n",
       "    <tr>\n",
       "      <th>3005</th>\n",
       "      <td>8872</td>\n",
       "      <td>Wayne's World</td>\n",
       "      <td>en</td>\n",
       "      <td>False</td>\n",
       "    </tr>\n",
       "    <tr>\n",
       "      <th>3006</th>\n",
       "      <td>8873</td>\n",
       "      <td>Wayne's World 2</td>\n",
       "      <td>en</td>\n",
       "      <td>False</td>\n",
       "    </tr>\n",
       "    <tr>\n",
       "      <th>3007</th>\n",
       "      <td>8874</td>\n",
       "      <td>My Best Friend's Wedding</td>\n",
       "      <td>en</td>\n",
       "      <td>False</td>\n",
       "    </tr>\n",
       "    <tr>\n",
       "      <th>3008</th>\n",
       "      <td>8875</td>\n",
       "      <td>Timber Falls</td>\n",
       "      <td>en</td>\n",
       "      <td>False</td>\n",
       "    </tr>\n",
       "    <tr>\n",
       "      <th>3009</th>\n",
       "      <td>8879</td>\n",
       "      <td>Pale Rider</td>\n",
       "      <td>en</td>\n",
       "      <td>False</td>\n",
       "    </tr>\n",
       "    <tr>\n",
       "      <th>3010</th>\n",
       "      <td>8880</td>\n",
       "      <td>Che: Part Two</td>\n",
       "      <td>en</td>\n",
       "      <td>False</td>\n",
       "    </tr>\n",
       "    <tr>\n",
       "      <th>3011</th>\n",
       "      <td>8881</td>\n",
       "      <td>Che: Part One</td>\n",
       "      <td>en</td>\n",
       "      <td>False</td>\n",
       "    </tr>\n",
       "    <tr>\n",
       "      <th>3012</th>\n",
       "      <td>8882</td>\n",
       "      <td>Gomorra</td>\n",
       "      <td>it</td>\n",
       "      <td>False</td>\n",
       "    </tr>\n",
       "    <tr>\n",
       "      <th>3013</th>\n",
       "      <td>8883</td>\n",
       "      <td>Flammen &amp; Citronen</td>\n",
       "      <td>da</td>\n",
       "      <td>False</td>\n",
       "    </tr>\n",
       "    <tr>\n",
       "      <th>3014</th>\n",
       "      <td>8884</td>\n",
       "      <td>Franklyn</td>\n",
       "      <td>en</td>\n",
       "      <td>False</td>\n",
       "    </tr>\n",
       "    <tr>\n",
       "      <th>3015</th>\n",
       "      <td>8885</td>\n",
       "      <td>Vals Im Bashir</td>\n",
       "      <td>he</td>\n",
       "      <td>False</td>\n",
       "    </tr>\n",
       "    <tr>\n",
       "      <th>3016</th>\n",
       "      <td>8886</td>\n",
       "      <td>Palermo Shooting</td>\n",
       "      <td>de</td>\n",
       "      <td>False</td>\n",
       "    </tr>\n",
       "    <tr>\n",
       "      <th>3017</th>\n",
       "      <td>8888</td>\n",
       "      <td>Im Winter ein Jahr</td>\n",
       "      <td>de</td>\n",
       "      <td>False</td>\n",
       "    </tr>\n",
       "    <tr>\n",
       "      <th>3018</th>\n",
       "      <td>8892</td>\n",
       "      <td>Un Conte de Noël</td>\n",
       "      <td>fr</td>\n",
       "      <td>False</td>\n",
       "    </tr>\n",
       "    <tr>\n",
       "      <th>3019</th>\n",
       "      <td>8893</td>\n",
       "      <td>C'est dur d'être aimé par des cons</td>\n",
       "      <td>fr</td>\n",
       "      <td>False</td>\n",
       "    </tr>\n",
       "    <tr>\n",
       "      <th>3020</th>\n",
       "      <td>8895</td>\n",
       "      <td>Adoration</td>\n",
       "      <td>en</td>\n",
       "      <td>False</td>\n",
       "    </tr>\n",
       "    <tr>\n",
       "      <th>3021</th>\n",
       "      <td>8896</td>\n",
       "      <td>Delta</td>\n",
       "      <td>hu</td>\n",
       "      <td>False</td>\n",
       "    </tr>\n",
       "    <tr>\n",
       "      <th>3022</th>\n",
       "      <td>8897</td>\n",
       "      <td>La Frontière de l'aube</td>\n",
       "      <td>en</td>\n",
       "      <td>False</td>\n",
       "    </tr>\n",
       "    <tr>\n",
       "      <th>3023</th>\n",
       "      <td>8898</td>\n",
       "      <td>La mujer sin cabeza</td>\n",
       "      <td>es</td>\n",
       "      <td>False</td>\n",
       "    </tr>\n",
       "    <tr>\n",
       "      <th>3024</th>\n",
       "      <td>8899</td>\n",
       "      <td>Le Silence de Lorna</td>\n",
       "      <td>fr</td>\n",
       "      <td>False</td>\n",
       "    </tr>\n",
       "    <tr>\n",
       "      <th>3025</th>\n",
       "      <td>8900</td>\n",
       "      <td>Leonera</td>\n",
       "      <td>es</td>\n",
       "      <td>False</td>\n",
       "    </tr>\n",
       "    <tr>\n",
       "      <th>3026</th>\n",
       "      <td>8902</td>\n",
       "      <td>Linha de Passe</td>\n",
       "      <td>pt</td>\n",
       "      <td>False</td>\n",
       "    </tr>\n",
       "    <tr>\n",
       "      <th>3027</th>\n",
       "      <td>8904</td>\n",
       "      <td>Serbis</td>\n",
       "      <td>tl</td>\n",
       "      <td>False</td>\n",
       "    </tr>\n",
       "    <tr>\n",
       "      <th>3028</th>\n",
       "      <td>8905</td>\n",
       "      <td>Üç maymun</td>\n",
       "      <td>tr</td>\n",
       "      <td>False</td>\n",
       "    </tr>\n",
       "    <tr>\n",
       "      <th>3029</th>\n",
       "      <td>8906</td>\n",
       "      <td>Wolke 9</td>\n",
       "      <td>de</td>\n",
       "      <td>False</td>\n",
       "    </tr>\n",
       "    <tr>\n",
       "      <th>...</th>\n",
       "      <td>...</td>\n",
       "      <td>...</td>\n",
       "      <td>...</td>\n",
       "      <td>...</td>\n",
       "    </tr>\n",
       "    <tr>\n",
       "      <th>8970</th>\n",
       "      <td>19765</td>\n",
       "      <td>Želary</td>\n",
       "      <td>cs</td>\n",
       "      <td>False</td>\n",
       "    </tr>\n",
       "    <tr>\n",
       "      <th>8971</th>\n",
       "      <td>19766</td>\n",
       "      <td>Inspector Gadget 2</td>\n",
       "      <td>en</td>\n",
       "      <td>False</td>\n",
       "    </tr>\n",
       "    <tr>\n",
       "      <th>8972</th>\n",
       "      <td>19792</td>\n",
       "      <td>Firestarter 2: Rekindled</td>\n",
       "      <td>en</td>\n",
       "      <td>False</td>\n",
       "    </tr>\n",
       "    <tr>\n",
       "      <th>8973</th>\n",
       "      <td>19794</td>\n",
       "      <td>Labor Pains</td>\n",
       "      <td>en</td>\n",
       "      <td>False</td>\n",
       "    </tr>\n",
       "    <tr>\n",
       "      <th>8974</th>\n",
       "      <td>19797</td>\n",
       "      <td>I Think I Do</td>\n",
       "      <td>en</td>\n",
       "      <td>False</td>\n",
       "    </tr>\n",
       "    <tr>\n",
       "      <th>8975</th>\n",
       "      <td>19803</td>\n",
       "      <td>Underclassman</td>\n",
       "      <td>en</td>\n",
       "      <td>False</td>\n",
       "    </tr>\n",
       "    <tr>\n",
       "      <th>8976</th>\n",
       "      <td>19809</td>\n",
       "      <td>Copper Mountain</td>\n",
       "      <td>en</td>\n",
       "      <td>False</td>\n",
       "    </tr>\n",
       "    <tr>\n",
       "      <th>8977</th>\n",
       "      <td>19812</td>\n",
       "      <td>Far til fire - gi'r aldrig op!</td>\n",
       "      <td>da</td>\n",
       "      <td>False</td>\n",
       "    </tr>\n",
       "    <tr>\n",
       "      <th>8978</th>\n",
       "      <td>19819</td>\n",
       "      <td>Blue Chips</td>\n",
       "      <td>en</td>\n",
       "      <td>False</td>\n",
       "    </tr>\n",
       "    <tr>\n",
       "      <th>8979</th>\n",
       "      <td>19823</td>\n",
       "      <td>Dolan's Cadillac</td>\n",
       "      <td>en</td>\n",
       "      <td>False</td>\n",
       "    </tr>\n",
       "    <tr>\n",
       "      <th>8980</th>\n",
       "      <td>19824</td>\n",
       "      <td>Van Wilder: Freshman Year</td>\n",
       "      <td>en</td>\n",
       "      <td>False</td>\n",
       "    </tr>\n",
       "    <tr>\n",
       "      <th>8981</th>\n",
       "      <td>19827</td>\n",
       "      <td>The In-Laws</td>\n",
       "      <td>en</td>\n",
       "      <td>False</td>\n",
       "    </tr>\n",
       "    <tr>\n",
       "      <th>8982</th>\n",
       "      <td>19828</td>\n",
       "      <td>10 Attitudes</td>\n",
       "      <td>en</td>\n",
       "      <td>False</td>\n",
       "    </tr>\n",
       "    <tr>\n",
       "      <th>8983</th>\n",
       "      <td>19829</td>\n",
       "      <td>Ninja Cheerleaders</td>\n",
       "      <td>en</td>\n",
       "      <td>False</td>\n",
       "    </tr>\n",
       "    <tr>\n",
       "      <th>8984</th>\n",
       "      <td>19833</td>\n",
       "      <td>In the Loop</td>\n",
       "      <td>en</td>\n",
       "      <td>False</td>\n",
       "    </tr>\n",
       "    <tr>\n",
       "      <th>8985</th>\n",
       "      <td>19837</td>\n",
       "      <td>Beer Wars</td>\n",
       "      <td>en</td>\n",
       "      <td>False</td>\n",
       "    </tr>\n",
       "    <tr>\n",
       "      <th>8986</th>\n",
       "      <td>19840</td>\n",
       "      <td>I Love You, Beth Cooper</td>\n",
       "      <td>en</td>\n",
       "      <td>False</td>\n",
       "    </tr>\n",
       "    <tr>\n",
       "      <th>8987</th>\n",
       "      <td>19844</td>\n",
       "      <td>Kiss the Bride</td>\n",
       "      <td>en</td>\n",
       "      <td>False</td>\n",
       "    </tr>\n",
       "    <tr>\n",
       "      <th>8988</th>\n",
       "      <td>19846</td>\n",
       "      <td>The Interview</td>\n",
       "      <td>en</td>\n",
       "      <td>False</td>\n",
       "    </tr>\n",
       "    <tr>\n",
       "      <th>8989</th>\n",
       "      <td>19848</td>\n",
       "      <td>The Players Club</td>\n",
       "      <td>en</td>\n",
       "      <td>False</td>\n",
       "    </tr>\n",
       "    <tr>\n",
       "      <th>8990</th>\n",
       "      <td>19850</td>\n",
       "      <td>Breast Men</td>\n",
       "      <td>en</td>\n",
       "      <td>False</td>\n",
       "    </tr>\n",
       "    <tr>\n",
       "      <th>8991</th>\n",
       "      <td>19851</td>\n",
       "      <td>Grey Gardens</td>\n",
       "      <td>en</td>\n",
       "      <td>False</td>\n",
       "    </tr>\n",
       "    <tr>\n",
       "      <th>8992</th>\n",
       "      <td>19855</td>\n",
       "      <td>The War</td>\n",
       "      <td>en</td>\n",
       "      <td>False</td>\n",
       "    </tr>\n",
       "    <tr>\n",
       "      <th>8993</th>\n",
       "      <td>19874</td>\n",
       "      <td>What Goes Up</td>\n",
       "      <td>en</td>\n",
       "      <td>False</td>\n",
       "    </tr>\n",
       "    <tr>\n",
       "      <th>8994</th>\n",
       "      <td>19877</td>\n",
       "      <td>北斗の拳 : 世紀末救世主伝説</td>\n",
       "      <td>ja</td>\n",
       "      <td>False</td>\n",
       "    </tr>\n",
       "    <tr>\n",
       "      <th>8995</th>\n",
       "      <td>19884</td>\n",
       "      <td>大菩薩峠</td>\n",
       "      <td>ja</td>\n",
       "      <td>False</td>\n",
       "    </tr>\n",
       "    <tr>\n",
       "      <th>8996</th>\n",
       "      <td>19887</td>\n",
       "      <td>डिस्को डांसर</td>\n",
       "      <td>hi</td>\n",
       "      <td>False</td>\n",
       "    </tr>\n",
       "    <tr>\n",
       "      <th>8997</th>\n",
       "      <td>19893</td>\n",
       "      <td>Flipper</td>\n",
       "      <td>en</td>\n",
       "      <td>False</td>\n",
       "    </tr>\n",
       "    <tr>\n",
       "      <th>8998</th>\n",
       "      <td>19898</td>\n",
       "      <td>Pandorum</td>\n",
       "      <td>en</td>\n",
       "      <td>False</td>\n",
       "    </tr>\n",
       "    <tr>\n",
       "      <th>8999</th>\n",
       "      <td>19899</td>\n",
       "      <td>Couples Retreat</td>\n",
       "      <td>en</td>\n",
       "      <td>False</td>\n",
       "    </tr>\n",
       "  </tbody>\n",
       "</table>\n",
       "<p>6000 rows × 4 columns</p>\n",
       "</div>"
      ],
      "text/plain": [
       "         id                      original_title original_language  adult\n",
       "3000   8867                        The Punisher                en  False\n",
       "3001   8868     Astérix et la surprise de César                fr  False\n",
       "3002   8869                 Eight Legged Freaks                en  False\n",
       "3003   8870                          Red Planet                en  False\n",
       "3004   8871      How the Grinch Stole Christmas                en  False\n",
       "3005   8872                       Wayne's World                en  False\n",
       "3006   8873                     Wayne's World 2                en  False\n",
       "3007   8874            My Best Friend's Wedding                en  False\n",
       "3008   8875                        Timber Falls                en  False\n",
       "3009   8879                          Pale Rider                en  False\n",
       "3010   8880                       Che: Part Two                en  False\n",
       "3011   8881                       Che: Part One                en  False\n",
       "3012   8882                             Gomorra                it  False\n",
       "3013   8883                  Flammen & Citronen                da  False\n",
       "3014   8884                            Franklyn                en  False\n",
       "3015   8885                      Vals Im Bashir                he  False\n",
       "3016   8886                    Palermo Shooting                de  False\n",
       "3017   8888                  Im Winter ein Jahr                de  False\n",
       "3018   8892                    Un Conte de Noël                fr  False\n",
       "3019   8893  C'est dur d'être aimé par des cons                fr  False\n",
       "3020   8895                           Adoration                en  False\n",
       "3021   8896                               Delta                hu  False\n",
       "3022   8897              La Frontière de l'aube                en  False\n",
       "3023   8898                 La mujer sin cabeza                es  False\n",
       "3024   8899                 Le Silence de Lorna                fr  False\n",
       "3025   8900                             Leonera                es  False\n",
       "3026   8902                      Linha de Passe                pt  False\n",
       "3027   8904                              Serbis                tl  False\n",
       "3028   8905                           Üç maymun                tr  False\n",
       "3029   8906                             Wolke 9                de  False\n",
       "...     ...                                 ...               ...    ...\n",
       "8970  19765                              Želary                cs  False\n",
       "8971  19766                  Inspector Gadget 2                en  False\n",
       "8972  19792            Firestarter 2: Rekindled                en  False\n",
       "8973  19794                         Labor Pains                en  False\n",
       "8974  19797                        I Think I Do                en  False\n",
       "8975  19803                       Underclassman                en  False\n",
       "8976  19809                     Copper Mountain                en  False\n",
       "8977  19812      Far til fire - gi'r aldrig op!                da  False\n",
       "8978  19819                          Blue Chips                en  False\n",
       "8979  19823                    Dolan's Cadillac                en  False\n",
       "8980  19824           Van Wilder: Freshman Year                en  False\n",
       "8981  19827                         The In-Laws                en  False\n",
       "8982  19828                        10 Attitudes                en  False\n",
       "8983  19829                  Ninja Cheerleaders                en  False\n",
       "8984  19833                         In the Loop                en  False\n",
       "8985  19837                           Beer Wars                en  False\n",
       "8986  19840             I Love You, Beth Cooper                en  False\n",
       "8987  19844                      Kiss the Bride                en  False\n",
       "8988  19846                       The Interview                en  False\n",
       "8989  19848                    The Players Club                en  False\n",
       "8990  19850                          Breast Men                en  False\n",
       "8991  19851                        Grey Gardens                en  False\n",
       "8992  19855                             The War                en  False\n",
       "8993  19874                        What Goes Up                en  False\n",
       "8994  19877                     北斗の拳 : 世紀末救世主伝説                ja  False\n",
       "8995  19884                                大菩薩峠                ja  False\n",
       "8996  19887                        डिस्को डांसर                hi  False\n",
       "8997  19893                             Flipper                en  False\n",
       "8998  19898                            Pandorum                en  False\n",
       "8999  19899                     Couples Retreat                en  False\n",
       "\n",
       "[6000 rows x 4 columns]"
      ]
     },
     "execution_count": 50,
     "metadata": {},
     "output_type": "execute_result"
    }
   ],
   "source": [
    "movie.iloc[3000:9000]"
   ]
  },
  {
   "cell_type": "code",
   "execution_count": 5,
   "metadata": {},
   "outputs": [],
   "source": [
    "ratings=pd.read_csv('ratings_small.csv',error_bad_lines=False,encoding='latin-1')"
   ]
  },
  {
   "cell_type": "code",
   "execution_count": 6,
   "metadata": {},
   "outputs": [],
   "source": [
    "ratings.rename(columns={'movieId':'id'},inplace=True)"
   ]
  },
  {
   "cell_type": "code",
   "execution_count": 7,
   "metadata": {},
   "outputs": [
    {
     "data": {
      "text/plain": [
       "671"
      ]
     },
     "execution_count": 7,
     "metadata": {},
     "output_type": "execute_result"
    }
   ],
   "source": [
    "count_user=ratings['userId'].value_counts()\n",
    "len(count_user)"
   ]
  },
  {
   "cell_type": "code",
   "execution_count": 8,
   "metadata": {},
   "outputs": [],
   "source": [
    "rating=ratings[ratings['userId'].isin(count_user[count_user>100].index)]"
   ]
  },
  {
   "cell_type": "code",
   "execution_count": 9,
   "metadata": {},
   "outputs": [
    {
     "data": {
      "text/plain": [
       "80487"
      ]
     },
     "execution_count": 9,
     "metadata": {},
     "output_type": "execute_result"
    }
   ],
   "source": [
    "len(rating)"
   ]
  },
  {
   "cell_type": "code",
   "execution_count": 10,
   "metadata": {},
   "outputs": [],
   "source": [
    "movie_with_rating=rating.merge(movie,on='id')"
   ]
  },
  {
   "cell_type": "code",
   "execution_count": 11,
   "metadata": {},
   "outputs": [
    {
     "data": {
      "text/plain": [
       "(34640, 7)"
      ]
     },
     "execution_count": 11,
     "metadata": {},
     "output_type": "execute_result"
    }
   ],
   "source": [
    "movie_with_rating.shape"
   ]
  },
  {
   "cell_type": "code",
   "execution_count": 12,
   "metadata": {},
   "outputs": [],
   "source": [
    "movie_num_ratings=movie_with_rating.groupby('original_title')['rating'].agg('count').sort_values(ascending=False).reset_index().rename(columns={'rating':'num_rating'})"
   ]
  },
  {
   "cell_type": "code",
   "execution_count": 13,
   "metadata": {},
   "outputs": [],
   "source": [
    "movie_with_rating_numrating=movie_with_rating.merge(movie_num_ratings,on='original_title')"
   ]
  },
  {
   "cell_type": "code",
   "execution_count": 14,
   "metadata": {},
   "outputs": [],
   "source": [
    "min_num_rating=movie_with_rating_numrating[movie_with_rating_numrating['num_rating']>1000]"
   ]
  },
  {
   "cell_type": "code",
   "execution_count": 15,
   "metadata": {},
   "outputs": [
    {
     "data": {
      "text/plain": [
       "(34640, 8)"
      ]
     },
     "execution_count": 15,
     "metadata": {},
     "output_type": "execute_result"
    }
   ],
   "source": [
    "movie_with_rating_numrating.shape"
   ]
  },
  {
   "cell_type": "code",
   "execution_count": 16,
   "metadata": {},
   "outputs": [],
   "source": [
    "movie_with_rating_numrating.drop_duplicates(['userId','original_title'],inplace=True)"
   ]
  },
  {
   "cell_type": "code",
   "execution_count": 17,
   "metadata": {},
   "outputs": [
    {
     "data": {
      "text/plain": [
       "34496"
      ]
     },
     "execution_count": 17,
     "metadata": {},
     "output_type": "execute_result"
    }
   ],
   "source": [
    "len(movie_with_rating_numrating)#my srk has new name movie_with_rating_numrating"
   ]
  },
  {
   "cell_type": "code",
   "execution_count": 18,
   "metadata": {},
   "outputs": [],
   "source": [
    "pivot_table=movie_with_rating_numrating.pivot_table(index='original_title',columns='userId',values='rating').fillna(0)"
   ]
  },
  {
   "cell_type": "code",
   "execution_count": 19,
   "metadata": {},
   "outputs": [
    {
     "data": {
      "text/plain": [
       "(2727, 258)"
      ]
     },
     "execution_count": 19,
     "metadata": {},
     "output_type": "execute_result"
    }
   ],
   "source": [
    "pivot_table.shape"
   ]
  },
  {
   "cell_type": "code",
   "execution_count": 20,
   "metadata": {},
   "outputs": [],
   "source": [
    "from scipy.sparse import csr_matrix\n",
    "csr=csr_matrix(pivot_table)"
   ]
  },
  {
   "cell_type": "code",
   "execution_count": 21,
   "metadata": {},
   "outputs": [
    {
     "data": {
      "text/plain": [
       "scipy.sparse.csr.csr_matrix"
      ]
     },
     "execution_count": 21,
     "metadata": {},
     "output_type": "execute_result"
    }
   ],
   "source": [
    "type(csr)"
   ]
  },
  {
   "cell_type": "code",
   "execution_count": 22,
   "metadata": {},
   "outputs": [],
   "source": [
    "from sklearn.neighbors import NearestNeighbors\n",
    "nn=NearestNeighbors(metric='cosine',algorithm='brute')"
   ]
  },
  {
   "cell_type": "code",
   "execution_count": 23,
   "metadata": {},
   "outputs": [
    {
     "data": {
      "text/plain": [
       "NearestNeighbors(algorithm='brute', leaf_size=30, metric='cosine',\n",
       "         metric_params=None, n_jobs=1, n_neighbors=5, p=2, radius=1.0)"
      ]
     },
     "execution_count": 23,
     "metadata": {},
     "output_type": "execute_result"
    }
   ],
   "source": [
    "nn.fit(csr)"
   ]
  },
  {
   "cell_type": "code",
   "execution_count": 25,
   "metadata": {},
   "outputs": [],
   "source": [
    "distances,movie=nn.kneighbors(pivot_table.iloc[0,:].values.reshape(1,258), n_neighbors=6)"
   ]
  },
  {
   "cell_type": "code",
   "execution_count": 26,
   "metadata": {},
   "outputs": [
    {
     "data": {
      "text/plain": [
       "array([   0, 1636, 2063, 1788,  998, 1216], dtype=int64)"
      ]
     },
     "execution_count": 26,
     "metadata": {},
     "output_type": "execute_result"
    }
   ],
   "source": [
    "movie=movie.ravel()\n",
    "movie"
   ]
  },
  {
   "cell_type": "code",
   "execution_count": 27,
   "metadata": {},
   "outputs": [
    {
     "name": "stdout",
     "output_type": "stream",
     "text": [
      "!Women Art Revolution\n",
      "Premium Rush\n",
      "The Eleventh Victim\n",
      "Shadow Run\n",
      "In the Name of the Father\n",
      "Le fil\n"
     ]
    }
   ],
   "source": [
    "for i in movie:\n",
    "    print(pivot_table.index[i])"
   ]
  },
  {
   "cell_type": "code",
   "execution_count": 28,
   "metadata": {},
   "outputs": [
    {
     "data": {
      "text/plain": [
       "array([False, False, False, ..., False, False, False])"
      ]
     },
     "execution_count": 28,
     "metadata": {},
     "output_type": "execute_result"
    }
   ],
   "source": [
    "pivot_table.index=='Jarhead'"
   ]
  },
  {
   "cell_type": "code",
   "execution_count": 29,
   "metadata": {},
   "outputs": [
    {
     "data": {
      "text/plain": [
       "(array([1036], dtype=int64),)"
      ]
     },
     "execution_count": 29,
     "metadata": {},
     "output_type": "execute_result"
    }
   ],
   "source": [
    "np.where(pivot_table.index=='Jarhead')"
   ]
  },
  {
   "cell_type": "code",
   "execution_count": 30,
   "metadata": {},
   "outputs": [
    {
     "data": {
      "text/plain": [
       "1036"
      ]
     },
     "execution_count": 30,
     "metadata": {},
     "output_type": "execute_result"
    }
   ],
   "source": [
    "np.where(pivot_table.index=='Jarhead')[0][0]"
   ]
  },
  {
   "cell_type": "code",
   "execution_count": 35,
   "metadata": {},
   "outputs": [],
   "source": [
    "def suggest(name):\n",
    "    movie_id=np.where(pivot_table.index==name)[0][0]\n",
    "    distance,movie=nn.kneighbors(pivot_table.iloc[movie_id,:].values.reshape(1,258),n_neighbors=10)\n",
    "    for i in movie.ravel():\n",
    "        print(pivot_table.index[i])"
   ]
  },
  {
   "cell_type": "code",
   "execution_count": 54,
   "metadata": {},
   "outputs": [
    {
     "name": "stdout",
     "output_type": "stream",
     "text": [
      "Enter a movie nameJarhead\n",
      "Jarhead\n",
      "Men in Black II\n",
      "La science des rêves\n",
      "Sleepless in Seattle\n",
      "Edward Scissorhands\n",
      "Los Olvidados\n",
      "Terminator 3: Rise of the Machines\n",
      "Lonely Hearts\n",
      "座頭市\n",
      "The Million Dollar Hotel\n"
     ]
    }
   ],
   "source": [
    "name=input('Enter a movie name')\n",
    "suggest(name)"
   ]
  },
  {
   "cell_type": "code",
   "execution_count": null,
   "metadata": {},
   "outputs": [],
   "source": []
  }
 ],
 "metadata": {
  "kernelspec": {
   "display_name": "Python 3",
   "language": "python",
   "name": "python3"
  },
  "language_info": {
   "codemirror_mode": {
    "name": "ipython",
    "version": 3
   },
   "file_extension": ".py",
   "mimetype": "text/x-python",
   "name": "python",
   "nbconvert_exporter": "python",
   "pygments_lexer": "ipython3",
   "version": "3.6.5"
  }
 },
 "nbformat": 4,
 "nbformat_minor": 2
}
